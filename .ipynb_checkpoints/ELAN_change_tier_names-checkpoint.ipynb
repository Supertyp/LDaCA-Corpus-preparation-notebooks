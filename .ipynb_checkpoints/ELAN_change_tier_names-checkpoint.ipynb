{
 "cells": [
  {
   "cell_type": "markdown",
   "id": "9b68315e",
   "metadata": {},
   "source": [
    "# ELAN change tier names\n",
    "\n",
    "iterates over elan files in folder and changes all tier names bases on string replacement\n",
    "\n",
    "\n",
    "* old_value: find this string in tier-names\n",
    "* new_value: replace the string with this\n",
    "\n",
    "<br>\n",
    "<div class=\"warning\" style='padding:0.1em; background-color: #FDAE44; color:#51247a; border-style: solid; border-color: #CC5500 '>\n",
    "<span>\n",
    "<p style='margin-top:1em; text-align:center'>\n",
    "<b>Never use this script on your main files. always use it on a copy of your files! </b> \n",
    "<br>\n",
    "</p>\n",
    "<p style='margin-left:1em;'></p></span>\n",
    "</div>\n"
   ]
  },
  {
   "cell_type": "code",
   "execution_count": null,
   "id": "f3465c73",
   "metadata": {},
   "outputs": [],
   "source": [
    "import os\n",
    "import xml.etree.ElementTree as ET\n",
    "\n",
    "def replace_substring_in_xml_attributes(folder_path, old_substring, new_value):\n",
    "\n",
    "    for filename in os.listdir(folder_path):\n",
    "        if filename.endswith(\".eaf\"):\n",
    "            file_path = os.path.join(folder_path, filename)\n",
    "            print(file_path)\n",
    "            # Parse the XML file\n",
    "            tree = ET.parse(file_path)\n",
    "            root = tree.getroot()\n",
    "\n",
    "            # Iterate through all elements in the XML tree\n",
    "            for element in root.iter():\n",
    "                # Replace the specified substring in attribute values\n",
    "                for key, value in element.attrib.items():\n",
    "                    if old_substring in value:\n",
    "                        element.set(key, value.replace(old_substring, new_value))\n",
    "\n",
    "            # Save the modified XML tree back to the file\n",
    "            tree.write(file_path, encoding=\"utf-8\", xml_declaration=True)\n",
    "\n",
    "            print(f\"Replaced '{old_substring}' with '{new_value}' in attributes of {filename}\")\n",
    "\n",
    "# Example usage\n",
    "folder_path = 'C:/Users/barth/Documents/LDACA/AusESL/clean_elan'\n",
    "old_value = 'LaBB-CAT_PNT:'\n",
    "new_value = 'PNT:'\n",
    "\n",
    "replace_substring_in_xml_attributes(folder_path, old_value, new_value)\n",
    "\n",
    "print (\"+++ DONE +++\")"
   ]
  }
 ],
 "metadata": {
  "kernelspec": {
   "display_name": "Python 3 (ipykernel)",
   "language": "python",
   "name": "python3"
  },
  "language_info": {
   "codemirror_mode": {
    "name": "ipython",
    "version": 3
   },
   "file_extension": ".py",
   "mimetype": "text/x-python",
   "name": "python",
   "nbconvert_exporter": "python",
   "pygments_lexer": "ipython3",
   "version": "3.10.9"
  }
 },
 "nbformat": 4,
 "nbformat_minor": 5
}
